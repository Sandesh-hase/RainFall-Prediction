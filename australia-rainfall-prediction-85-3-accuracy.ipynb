{
 "cells": [
  {
   "cell_type": "code",
   "execution_count": 4,
   "metadata": {
    "_cell_guid": "b1076dfc-b9ad-4769-8c92-a6c4dae69d19",
    "_uuid": "8f2839f25d086af736a60e9eeb907d3b93b6e0e5",
    "papermill": {
     "duration": 1.614392,
     "end_time": "2021-04-09T11:36:17.621164",
     "exception": false,
     "start_time": "2021-04-09T11:36:16.006772",
     "status": "completed"
    },
    "tags": []
   },
   "outputs": [],
   "source": [
    "import numpy as np # linear algebra\n",
    "import pandas as pd # data processing, CSV file I/O (e.g. pd.read_csv)\n",
    "import seaborn as sns \n",
    "import matplotlib.pyplot as plt\n",
    "from collections import Counter\n",
    "%matplotlib inline\n",
    "\n",
    "# machine learning\n",
    "from sklearn.linear_model import LogisticRegression, SGDClassifier, LinearRegression\n",
    "from sklearn.svm import SVC, LinearSVC\n",
    "from sklearn.ensemble import RandomForestClassifier\n",
    "from sklearn.neighbors import KNeighborsClassifier, KNeighborsRegressor\n",
    "from sklearn.tree import DecisionTreeClassifier\n",
    "\n",
    "from sklearn.preprocessing import StandardScaler\n",
    "from sklearn.model_selection import train_test_split, GridSearchCV\n",
    "from sklearn.pipeline import Pipeline\n",
    "from sklearn.metrics import accuracy_score\n",
    "\n",
    "# setting seaborn theme\n",
    "sns.set_theme(style='whitegrid', palette='ch:.25')"
   ]
  },
  {
   "cell_type": "markdown",
   "metadata": {
    "papermill": {
     "duration": 0.015969,
     "end_time": "2021-04-09T11:36:17.654834",
     "exception": false,
     "start_time": "2021-04-09T11:36:17.638865",
     "status": "completed"
    },
    "tags": []
   },
   "source": [
    "<img src='https://tse2.mm.bing.net/th?id=OIP.eRY8bxk2QZb7g-btkOS9mgHaE8&pid=Api&P=0' width='400'>"
   ]
  },
  {
   "cell_type": "markdown",
   "metadata": {
    "papermill": {
     "duration": 0.015906,
     "end_time": "2021-04-09T11:36:17.687124",
     "exception": false,
     "start_time": "2021-04-09T11:36:17.671218",
     "status": "completed"
    },
    "tags": []
   },
   "source": [
    "# 1. Load Data & Check Information"
   ]
  },
  {
   "cell_type": "code",
   "execution_count": 5,
   "metadata": {
    "papermill": {
     "duration": 1.046232,
     "end_time": "2021-04-09T11:36:18.750371",
     "exception": false,
     "start_time": "2021-04-09T11:36:17.704139",
     "status": "completed"
    },
    "tags": []
   },
   "outputs": [
    {
     "data": {
      "text/html": [
       "<div>\n",
       "<style scoped>\n",
       "    .dataframe tbody tr th:only-of-type {\n",
       "        vertical-align: middle;\n",
       "    }\n",
       "\n",
       "    .dataframe tbody tr th {\n",
       "        vertical-align: top;\n",
       "    }\n",
       "\n",
       "    .dataframe thead th {\n",
       "        text-align: right;\n",
       "    }\n",
       "</style>\n",
       "<table border=\"1\" class=\"dataframe\">\n",
       "  <thead>\n",
       "    <tr style=\"text-align: right;\">\n",
       "      <th></th>\n",
       "      <th>Date</th>\n",
       "      <th>Location</th>\n",
       "      <th>MinTemp</th>\n",
       "      <th>MaxTemp</th>\n",
       "      <th>Rainfall</th>\n",
       "      <th>Evaporation</th>\n",
       "      <th>Sunshine</th>\n",
       "      <th>WindGustDir</th>\n",
       "      <th>WindGustSpeed</th>\n",
       "      <th>WindDir9am</th>\n",
       "      <th>...</th>\n",
       "      <th>Humidity9am</th>\n",
       "      <th>Humidity3pm</th>\n",
       "      <th>Pressure9am</th>\n",
       "      <th>Pressure3pm</th>\n",
       "      <th>Cloud9am</th>\n",
       "      <th>Cloud3pm</th>\n",
       "      <th>Temp9am</th>\n",
       "      <th>Temp3pm</th>\n",
       "      <th>RainToday</th>\n",
       "      <th>RainTomorrow</th>\n",
       "    </tr>\n",
       "  </thead>\n",
       "  <tbody>\n",
       "    <tr>\n",
       "      <th>0</th>\n",
       "      <td>2008-12-01</td>\n",
       "      <td>Albury</td>\n",
       "      <td>13.4</td>\n",
       "      <td>22.9</td>\n",
       "      <td>0.6</td>\n",
       "      <td>NaN</td>\n",
       "      <td>NaN</td>\n",
       "      <td>W</td>\n",
       "      <td>44.0</td>\n",
       "      <td>W</td>\n",
       "      <td>...</td>\n",
       "      <td>71.0</td>\n",
       "      <td>22.0</td>\n",
       "      <td>1007.7</td>\n",
       "      <td>1007.1</td>\n",
       "      <td>8.0</td>\n",
       "      <td>NaN</td>\n",
       "      <td>16.9</td>\n",
       "      <td>21.8</td>\n",
       "      <td>No</td>\n",
       "      <td>No</td>\n",
       "    </tr>\n",
       "    <tr>\n",
       "      <th>1</th>\n",
       "      <td>2008-12-02</td>\n",
       "      <td>Albury</td>\n",
       "      <td>7.4</td>\n",
       "      <td>25.1</td>\n",
       "      <td>0.0</td>\n",
       "      <td>NaN</td>\n",
       "      <td>NaN</td>\n",
       "      <td>WNW</td>\n",
       "      <td>44.0</td>\n",
       "      <td>NNW</td>\n",
       "      <td>...</td>\n",
       "      <td>44.0</td>\n",
       "      <td>25.0</td>\n",
       "      <td>1010.6</td>\n",
       "      <td>1007.8</td>\n",
       "      <td>NaN</td>\n",
       "      <td>NaN</td>\n",
       "      <td>17.2</td>\n",
       "      <td>24.3</td>\n",
       "      <td>No</td>\n",
       "      <td>No</td>\n",
       "    </tr>\n",
       "    <tr>\n",
       "      <th>2</th>\n",
       "      <td>2008-12-03</td>\n",
       "      <td>Albury</td>\n",
       "      <td>12.9</td>\n",
       "      <td>25.7</td>\n",
       "      <td>0.0</td>\n",
       "      <td>NaN</td>\n",
       "      <td>NaN</td>\n",
       "      <td>WSW</td>\n",
       "      <td>46.0</td>\n",
       "      <td>W</td>\n",
       "      <td>...</td>\n",
       "      <td>38.0</td>\n",
       "      <td>30.0</td>\n",
       "      <td>1007.6</td>\n",
       "      <td>1008.7</td>\n",
       "      <td>NaN</td>\n",
       "      <td>2.0</td>\n",
       "      <td>21.0</td>\n",
       "      <td>23.2</td>\n",
       "      <td>No</td>\n",
       "      <td>No</td>\n",
       "    </tr>\n",
       "    <tr>\n",
       "      <th>3</th>\n",
       "      <td>2008-12-04</td>\n",
       "      <td>Albury</td>\n",
       "      <td>9.2</td>\n",
       "      <td>28.0</td>\n",
       "      <td>0.0</td>\n",
       "      <td>NaN</td>\n",
       "      <td>NaN</td>\n",
       "      <td>NE</td>\n",
       "      <td>24.0</td>\n",
       "      <td>SE</td>\n",
       "      <td>...</td>\n",
       "      <td>45.0</td>\n",
       "      <td>16.0</td>\n",
       "      <td>1017.6</td>\n",
       "      <td>1012.8</td>\n",
       "      <td>NaN</td>\n",
       "      <td>NaN</td>\n",
       "      <td>18.1</td>\n",
       "      <td>26.5</td>\n",
       "      <td>No</td>\n",
       "      <td>No</td>\n",
       "    </tr>\n",
       "    <tr>\n",
       "      <th>4</th>\n",
       "      <td>2008-12-05</td>\n",
       "      <td>Albury</td>\n",
       "      <td>17.5</td>\n",
       "      <td>32.3</td>\n",
       "      <td>1.0</td>\n",
       "      <td>NaN</td>\n",
       "      <td>NaN</td>\n",
       "      <td>W</td>\n",
       "      <td>41.0</td>\n",
       "      <td>ENE</td>\n",
       "      <td>...</td>\n",
       "      <td>82.0</td>\n",
       "      <td>33.0</td>\n",
       "      <td>1010.8</td>\n",
       "      <td>1006.0</td>\n",
       "      <td>7.0</td>\n",
       "      <td>8.0</td>\n",
       "      <td>17.8</td>\n",
       "      <td>29.7</td>\n",
       "      <td>No</td>\n",
       "      <td>No</td>\n",
       "    </tr>\n",
       "  </tbody>\n",
       "</table>\n",
       "<p>5 rows × 23 columns</p>\n",
       "</div>"
      ],
      "text/plain": [
       "         Date Location  MinTemp  MaxTemp  Rainfall  Evaporation  Sunshine  \\\n",
       "0  2008-12-01   Albury     13.4     22.9       0.6          NaN       NaN   \n",
       "1  2008-12-02   Albury      7.4     25.1       0.0          NaN       NaN   \n",
       "2  2008-12-03   Albury     12.9     25.7       0.0          NaN       NaN   \n",
       "3  2008-12-04   Albury      9.2     28.0       0.0          NaN       NaN   \n",
       "4  2008-12-05   Albury     17.5     32.3       1.0          NaN       NaN   \n",
       "\n",
       "  WindGustDir  WindGustSpeed WindDir9am  ... Humidity9am  Humidity3pm  \\\n",
       "0           W           44.0          W  ...        71.0         22.0   \n",
       "1         WNW           44.0        NNW  ...        44.0         25.0   \n",
       "2         WSW           46.0          W  ...        38.0         30.0   \n",
       "3          NE           24.0         SE  ...        45.0         16.0   \n",
       "4           W           41.0        ENE  ...        82.0         33.0   \n",
       "\n",
       "   Pressure9am  Pressure3pm  Cloud9am  Cloud3pm  Temp9am  Temp3pm  RainToday  \\\n",
       "0       1007.7       1007.1       8.0       NaN     16.9     21.8         No   \n",
       "1       1010.6       1007.8       NaN       NaN     17.2     24.3         No   \n",
       "2       1007.6       1008.7       NaN       2.0     21.0     23.2         No   \n",
       "3       1017.6       1012.8       NaN       NaN     18.1     26.5         No   \n",
       "4       1010.8       1006.0       7.0       8.0     17.8     29.7         No   \n",
       "\n",
       "   RainTomorrow  \n",
       "0            No  \n",
       "1            No  \n",
       "2            No  \n",
       "3            No  \n",
       "4            No  \n",
       "\n",
       "[5 rows x 23 columns]"
      ]
     },
     "execution_count": 5,
     "metadata": {},
     "output_type": "execute_result"
    }
   ],
   "source": [
    "ori = pd.read_csv('weatherAUS.csv')\n",
    "df = pd.read_csv('weatherAUS.csv')\n",
    "df.head()"
   ]
  },
  {
   "cell_type": "markdown",
   "metadata": {
    "papermill": {
     "duration": 0.018201,
     "end_time": "2021-04-09T11:36:18.788268",
     "exception": false,
     "start_time": "2021-04-09T11:36:18.770067",
     "status": "completed"
    },
    "tags": []
   },
   "source": [
    "### Checking Basic Information"
   ]
  },
  {
   "cell_type": "code",
   "execution_count": 6,
   "metadata": {
    "papermill": {
     "duration": 0.093231,
     "end_time": "2021-04-09T11:36:18.898798",
     "exception": false,
     "start_time": "2021-04-09T11:36:18.805567",
     "status": "completed"
    },
    "tags": []
   },
   "outputs": [
    {
     "name": "stdout",
     "output_type": "stream",
     "text": [
      "<class 'pandas.core.frame.DataFrame'>\n",
      "RangeIndex: 145460 entries, 0 to 145459\n",
      "Data columns (total 23 columns):\n",
      " #   Column         Non-Null Count   Dtype  \n",
      "---  ------         --------------   -----  \n",
      " 0   Date           145460 non-null  object \n",
      " 1   Location       145460 non-null  object \n",
      " 2   MinTemp        143975 non-null  float64\n",
      " 3   MaxTemp        144199 non-null  float64\n",
      " 4   Rainfall       142199 non-null  float64\n",
      " 5   Evaporation    82670 non-null   float64\n",
      " 6   Sunshine       75625 non-null   float64\n",
      " 7   WindGustDir    135134 non-null  object \n",
      " 8   WindGustSpeed  135197 non-null  float64\n",
      " 9   WindDir9am     134894 non-null  object \n",
      " 10  WindDir3pm     141232 non-null  object \n",
      " 11  WindSpeed9am   143693 non-null  float64\n",
      " 12  WindSpeed3pm   142398 non-null  float64\n",
      " 13  Humidity9am    142806 non-null  float64\n",
      " 14  Humidity3pm    140953 non-null  float64\n",
      " 15  Pressure9am    130395 non-null  float64\n",
      " 16  Pressure3pm    130432 non-null  float64\n",
      " 17  Cloud9am       89572 non-null   float64\n",
      " 18  Cloud3pm       86102 non-null   float64\n",
      " 19  Temp9am        143693 non-null  float64\n",
      " 20  Temp3pm        141851 non-null  float64\n",
      " 21  RainToday      142199 non-null  object \n",
      " 22  RainTomorrow   142193 non-null  object \n",
      "dtypes: float64(16), object(7)\n",
      "memory usage: 25.5+ MB\n"
     ]
    }
   ],
   "source": [
    "df.info()"
   ]
  },
  {
   "cell_type": "code",
   "execution_count": 7,
   "metadata": {
    "papermill": {
     "duration": 0.078753,
     "end_time": "2021-04-09T11:36:18.995039",
     "exception": false,
     "start_time": "2021-04-09T11:36:18.916286",
     "status": "completed"
    },
    "tags": []
   },
   "outputs": [
    {
     "data": {
      "text/plain": [
       "Date             0.000000\n",
       "Location         0.000000\n",
       "MinTemp          0.010209\n",
       "MaxTemp          0.008669\n",
       "Rainfall         0.022419\n",
       "Evaporation      0.431665\n",
       "Sunshine         0.480098\n",
       "WindGustDir      0.070989\n",
       "WindGustSpeed    0.070555\n",
       "WindDir9am       0.072639\n",
       "WindDir3pm       0.029066\n",
       "WindSpeed9am     0.012148\n",
       "WindSpeed3pm     0.021050\n",
       "Humidity9am      0.018246\n",
       "Humidity3pm      0.030984\n",
       "Pressure9am      0.103568\n",
       "Pressure3pm      0.103314\n",
       "Cloud9am         0.384216\n",
       "Cloud3pm         0.408071\n",
       "Temp9am          0.012148\n",
       "Temp3pm          0.024811\n",
       "RainToday        0.022419\n",
       "RainTomorrow     0.022460\n",
       "dtype: float64"
      ]
     },
     "execution_count": 7,
     "metadata": {},
     "output_type": "execute_result"
    }
   ],
   "source": [
    "df.isnull().mean()"
   ]
  },
  {
   "cell_type": "code",
   "execution_count": 8,
   "metadata": {
    "papermill": {
     "duration": 0.20533,
     "end_time": "2021-04-09T11:36:19.219428",
     "exception": false,
     "start_time": "2021-04-09T11:36:19.014098",
     "status": "completed"
    },
    "tags": []
   },
   "outputs": [
    {
     "data": {
      "text/plain": [
       "Date             3436\n",
       "Location           49\n",
       "MinTemp           389\n",
       "MaxTemp           505\n",
       "Rainfall          681\n",
       "Evaporation       358\n",
       "Sunshine          145\n",
       "WindGustDir        16\n",
       "WindGustSpeed      67\n",
       "WindDir9am         16\n",
       "WindDir3pm         16\n",
       "WindSpeed9am       43\n",
       "WindSpeed3pm       44\n",
       "Humidity9am       101\n",
       "Humidity3pm       101\n",
       "Pressure9am       546\n",
       "Pressure3pm       549\n",
       "Cloud9am           10\n",
       "Cloud3pm           10\n",
       "Temp9am           441\n",
       "Temp3pm           502\n",
       "RainToday           2\n",
       "RainTomorrow        2\n",
       "dtype: int64"
      ]
     },
     "execution_count": 8,
     "metadata": {},
     "output_type": "execute_result"
    }
   ],
   "source": [
    "df.nunique()"
   ]
  },
  {
   "cell_type": "markdown",
   "metadata": {
    "papermill": {
     "duration": 0.031318,
     "end_time": "2021-04-09T11:36:19.279615",
     "exception": false,
     "start_time": "2021-04-09T11:36:19.248297",
     "status": "completed"
    },
    "tags": []
   },
   "source": [
    "### Checking Correlationship"
   ]
  },
  {
   "cell_type": "code",
   "execution_count": 9,
   "metadata": {
    "papermill": {
     "duration": 1.990471,
     "end_time": "2021-04-09T11:36:21.290604",
     "exception": false,
     "start_time": "2021-04-09T11:36:19.300133",
     "status": "completed"
    },
    "tags": []
   },
   "outputs": [
    {
     "data": {
      "image/png": "[encoded data removed]",
      "text/plain": [
       "<Figure size 1296x1296 with 2 Axes>"
      ]
     },
     "metadata": {},
     "output_type": "display_data"
    }
   ],
   "source": [
    "correlation = df.corr()\n",
    "plt.figure(figsize=(18,18))\n",
    "sns.heatmap(correlation, annot=True, square=True)\n",
    "plt.show()"
   ]
  },
  {
   "cell_type": "markdown",
   "metadata": {
    "papermill": {
     "duration": 0.023279,
     "end_time": "2021-04-09T11:36:21.343232",
     "exception": false,
     "start_time": "2021-04-09T11:36:21.319953",
     "status": "completed"
    },
    "tags": []
   },
   "source": [
    "### Null Values in each column"
   ]
  },
  {
   "cell_type": "code",
   "execution_count": 10,
   "metadata": {
    "papermill": {
     "duration": 0.083365,
     "end_time": "2021-04-09T11:36:21.450360",
     "exception": false,
     "start_time": "2021-04-09T11:36:21.366995",
     "status": "completed"
    },
    "tags": []
   },
   "outputs": [
    {
     "data": {
      "text/plain": [
       "Date                 0\n",
       "Location             0\n",
       "MinTemp           1485\n",
       "MaxTemp           1261\n",
       "Rainfall          3261\n",
       "Evaporation      62790\n",
       "Sunshine         69835\n",
       "WindGustDir      10326\n",
       "WindGustSpeed    10263\n",
       "WindDir9am       10566\n",
       "WindDir3pm        4228\n",
       "WindSpeed9am      1767\n",
       "WindSpeed3pm      3062\n",
       "Humidity9am       2654\n",
       "Humidity3pm       4507\n",
       "Pressure9am      15065\n",
       "Pressure3pm      15028\n",
       "Cloud9am         55888\n",
       "Cloud3pm         59358\n",
       "Temp9am           1767\n",
       "Temp3pm           3609\n",
       "RainToday         3261\n",
       "RainTomorrow      3267\n",
       "dtype: int64"
      ]
     },
     "execution_count": 10,
     "metadata": {},
     "output_type": "execute_result"
    }
   ],
   "source": [
    "df.isna().sum()"
   ]
  },
  {
   "cell_type": "markdown",
   "metadata": {
    "papermill": {
     "duration": 0.024003,
     "end_time": "2021-04-09T11:36:21.499357",
     "exception": false,
     "start_time": "2021-04-09T11:36:21.475354",
     "status": "completed"
    },
    "tags": []
   },
   "source": [
    "# 2. Data Engineering"
   ]
  },
  {
   "cell_type": "markdown",
   "metadata": {
    "papermill": {
     "duration": 0.024774,
     "end_time": "2021-04-09T11:36:21.548053",
     "exception": false,
     "start_time": "2021-04-09T11:36:21.523279",
     "status": "completed"
    },
    "tags": []
   },
   "source": [
    "### Dropping Some Columns"
   ]
  },
  {
   "cell_type": "markdown",
   "metadata": {
    "papermill": {
     "duration": 0.023638,
     "end_time": "2021-04-09T11:36:21.595748",
     "exception": false,
     "start_time": "2021-04-09T11:36:21.572110",
     "status": "completed"
    },
    "tags": []
   },
   "source": [
    "- Since `Evaporation`, `Sunshine`, `Cloud9am`, `Cloud3pm` contain null values more than 30%, it will not help to improve out modes so they will be dropped.\n",
    "- `Date` information does not needed, so this will be also dropped."
   ]
  },
  {
   "cell_type": "code",
   "execution_count": 11,
   "metadata": {
    "papermill": {
     "duration": 0.047047,
     "end_time": "2021-04-09T11:36:21.667372",
     "exception": false,
     "start_time": "2021-04-09T11:36:21.620325",
     "status": "completed"
    },
    "tags": []
   },
   "outputs": [],
   "source": [
    "df = df.drop(['Date','Evaporation','Sunshine','Cloud9am','Cloud3pm'], axis=1)"
   ]
  },
  {
   "cell_type": "code",
   "execution_count": 12,
   "metadata": {
    "papermill": {
     "duration": 0.033765,
     "end_time": "2021-04-09T11:36:21.725504",
     "exception": false,
     "start_time": "2021-04-09T11:36:21.691739",
     "status": "completed"
    },
    "tags": []
   },
   "outputs": [
    {
     "data": {
      "text/plain": [
       "Index(['Location', 'MinTemp', 'MaxTemp', 'Rainfall', 'WindGustDir',\n",
       "       'WindGustSpeed', 'WindDir9am', 'WindDir3pm', 'WindSpeed9am',\n",
       "       'WindSpeed3pm', 'Humidity9am', 'Humidity3pm', 'Pressure9am',\n",
       "       'Pressure3pm', 'Temp9am', 'Temp3pm', 'RainToday', 'RainTomorrow'],\n",
       "      dtype='object')"
      ]
     },
     "execution_count": 12,
     "metadata": {},
     "output_type": "execute_result"
    }
   ],
   "source": [
    "df.columns"
   ]
  },
  {
   "cell_type": "markdown",
   "metadata": {
    "papermill": {
     "duration": 0.024308,
     "end_time": "2021-04-09T11:36:21.774295",
     "exception": false,
     "start_time": "2021-04-09T11:36:21.749987",
     "status": "completed"
    },
    "tags": []
   },
   "source": [
    "### Handling Null Values\n",
    "\n",
    "Handling Null Values is really important to predict the answer. <br/>\n",
    "If there is null values in dataset, machine learning model will not accept to fit dataset into model.<br/> Also, it will lead to wrong prediction at the last. \n",
    "In this section, I changed null values by using 2 steps.\n",
    "\n",
    "1. **Predict null values**<br/> \n",
    "Just replacing null values to median or mean would not increase the accuracy of model.<br/> Therefore, by using `KNeighborsRegressor`, I am going to predict missing values as much as possible.\n",
    "\n",
    "2. **Replace to median**<br/>\n",
    "After predicting null values, I am going to replace it by using `SimpleImputer`.<br/>\n"
   ]
  },
  {
   "cell_type": "markdown",
   "metadata": {
    "papermill": {
     "duration": 0.024149,
     "end_time": "2021-04-09T11:36:21.822960",
     "exception": false,
     "start_time": "2021-04-09T11:36:21.798811",
     "status": "completed"
    },
    "tags": []
   },
   "source": [
    "KNN model does not receive **object** type values, so object type values must be replaced to interger of float type."
   ]
  },
  {
   "cell_type": "code",
   "execution_count": 13,
   "metadata": {
    "papermill": {
     "duration": 0.281089,
     "end_time": "2021-04-09T11:36:22.129321",
     "exception": false,
     "start_time": "2021-04-09T11:36:21.848232",
     "status": "completed"
    },
    "tags": []
   },
   "outputs": [],
   "source": [
    "cat_list = ['Location', 'WindGustDir', 'WindDir9am', 'WindDir3pm','RainToday', 'RainTomorrow']\n",
    "for column in cat_list:\n",
    "    df[column] = pd.Categorical(df[column])\n",
    "    df[column] = df[column].cat.codes\n",
    "    #-1 represent NaN in .cat.codes. Therefore, I replaced to real NaN value\n",
    "    df[column].replace(-1, np.NaN, inplace=True)"
   ]
  },
  {
   "cell_type": "markdown",
   "metadata": {
    "papermill": {
     "duration": 0.024345,
     "end_time": "2021-04-09T11:36:22.179362",
     "exception": false,
     "start_time": "2021-04-09T11:36:22.155017",
     "status": "completed"
    },
    "tags": []
   },
   "source": [
    "First step will be executed by `filling_null` function. <br/><br/>\n",
    "Things going on in `filling_null` :\n",
    "* Based on the given feature, it drops all the null variable in other features.\n",
    "* Split dataset into train and test set. Train set only include non-null values for given feature, and test set only include null values for given feature.\n",
    "* Run KNN model to predict null values\n",
    "* Return Dataset"
   ]
  },
  {
   "cell_type": "code",
   "execution_count": 14,
   "metadata": {
    "papermill": {
     "duration": 0.036512,
     "end_time": "2021-04-09T11:36:22.240829",
     "exception": false,
     "start_time": "2021-04-09T11:36:22.204317",
     "status": "completed"
    },
    "tags": []
   },
   "outputs": [],
   "source": [
    "def filling_null(feature, df=df):\n",
    "    \n",
    "    #make train set and test set\n",
    "    temp_df = df.copy().drop('RainTomorrow', axis=1)\n",
    "    df_list = list(temp_df.columns)\n",
    "    df_list.remove(feature)\n",
    "    temp_df.dropna(subset=df_list, inplace=True)\n",
    "    train = temp_df.loc[temp_df.notna()[feature]]\n",
    "    train_x = train.drop(feature, axis=1)\n",
    "    train_y = train[feature]\n",
    "    test = temp_df[temp_df.isnull()[feature]].drop(feature,axis=1)    \n",
    "\n",
    "    #run machine learning model and predict null values\n",
    "    KNN = KNeighborsRegressor(n_jobs=-1)\n",
    "    KNN.fit(train_x, train_y)\n",
    "    change_NaN = KNN.predict(test)\n",
    "    index_list = test.index.tolist()\n",
    "    for i in range(len(change_NaN)):\n",
    "        df.at[index_list[i], feature]= change_NaN[i]\n",
    "\n",
    "    #return dataset which had been changed\n",
    "    return df"
   ]
  },
  {
   "cell_type": "markdown",
   "metadata": {
    "papermill": {
     "duration": 0.024872,
     "end_time": "2021-04-09T11:36:22.290992",
     "exception": false,
     "start_time": "2021-04-09T11:36:22.266120",
     "status": "completed"
    },
    "tags": []
   },
   "source": [
    "Reason why I did not apply all the columns to `filling_null` function is that features not in the list, `Rainfall`, `WindGustSpeed`, `WindDir9am`, `WindDir3pm`, `Temp9am`, `Temp3pm`, `RainToday`, will have empty dataset if I drop null values from other features."
   ]
  },
  {
   "cell_type": "code",
   "execution_count": 15,
   "metadata": {
    "papermill": {
     "duration": 26.588244,
     "end_time": "2021-04-09T11:36:48.903923",
     "exception": false,
     "start_time": "2021-04-09T11:36:22.315679",
     "status": "completed"
    },
    "tags": []
   },
   "outputs": [],
   "source": [
    "apply_list =['MinTemp', 'MaxTemp', 'WindGustDir', 'WindDir9am', 'WindDir3pm', 'Humidity9am',\n",
    "             'Humidity3pm', 'Pressure9am', 'Pressure3pm']\n",
    "\n",
    "\n",
    "for feature in apply_list:\n",
    "    df = filling_null(feature = feature)"
   ]
  },
  {
   "cell_type": "markdown",
   "metadata": {
    "papermill": {
     "duration": 0.024973,
     "end_time": "2021-04-09T11:36:48.953972",
     "exception": false,
     "start_time": "2021-04-09T11:36:48.928999",
     "status": "completed"
    },
    "tags": []
   },
   "source": [
    "As you can see, `WindDir9am` feature has changed a lot! <br> Other features also changed, but not like `WindDir9am`. However, it is still worth it"
   ]
  },
  {
   "cell_type": "code",
   "execution_count": 16,
   "metadata": {
    "papermill": {
     "duration": 0.365341,
     "end_time": "2021-04-09T11:36:49.344097",
     "exception": false,
     "start_time": "2021-04-09T11:36:48.978756",
     "status": "completed"
    },
    "tags": []
   },
   "outputs": [
    {
     "data": {
      "image/png": "[encoded data removed]",
      "text/plain": [
       "<Figure size 1800x720 with 1 Axes>"
      ]
     },
     "metadata": {},
     "output_type": "display_data"
    }
   ],
   "source": [
    "#getting information of number of null variable changed\n",
    "df_columns = list(df.columns)\n",
    "changed_dict = {}\n",
    "for col in df_columns:\n",
    "    changed_dict[\"%s\" %col] = len(df[col].dropna()) - len(ori[col].dropna())\n",
    "\n",
    "#delet features which did not changed at all\n",
    "pop_list = ['Location','Rainfall','WindGustSpeed','WindSpeed9am','WindSpeed3pm','Temp9am','Temp3pm','RainToday','RainTomorrow']\n",
    "for feature in pop_list:\n",
    "    changed_dict.pop(feature)\n",
    "\n",
    "#make list of key and value to visualize the graph\n",
    "key_list = []\n",
    "value_list = []\n",
    "for key, value in changed_dict.items():\n",
    "    key_list.append(key)\n",
    "    value_list.append(value)\n",
    "\n",
    "temp_df = pd.DataFrame()\n",
    "temp_df['key'] = key_list\n",
    "temp_df['value'] = value_list\n",
    "\n",
    "#visualization\n",
    "plt.figure(figsize=(25, 10))\n",
    "plot = sns.barplot(x='key',y='value', data=temp_df)\n",
    "for p in plot.patches:\n",
    "    plot.annotate(format(p.get_height(), '0.0f'), \n",
    "                   (p.get_x() + p.get_width() / 2., p.get_height()), \n",
    "                   ha = 'center', va = 'center', \n",
    "                   xytext = (0, 9), \n",
    "                   textcoords = 'offset points')\n",
    "plt.yscale('log')\n",
    "plot.axes.get_yaxis().set_visible(False)\n",
    "plt.title('# of null values which changed to non-null values', fontsize=20)\n",
    "plt.show()"
   ]
  },
  {
   "cell_type": "markdown",
   "metadata": {
    "papermill": {
     "duration": 0.026192,
     "end_time": "2021-04-09T11:36:49.396623",
     "exception": false,
     "start_time": "2021-04-09T11:36:49.370431",
     "status": "completed"
    },
    "tags": []
   },
   "source": [
    "Since we finished first step, we are going to do second step, which is **Replace to median**."
   ]
  },
  {
   "cell_type": "code",
   "execution_count": 17,
   "metadata": {
    "papermill": {
     "duration": 0.087118,
     "end_time": "2021-04-09T11:36:49.509684",
     "exception": false,
     "start_time": "2021-04-09T11:36:49.422566",
     "status": "completed"
    },
    "tags": []
   },
   "outputs": [],
   "source": [
    "df_Xnul = df.fillna(df.median())"
   ]
  },
  {
   "cell_type": "code",
   "execution_count": 18,
   "metadata": {
    "papermill": {
     "duration": 0.050414,
     "end_time": "2021-04-09T11:36:49.586142",
     "exception": false,
     "start_time": "2021-04-09T11:36:49.535728",
     "status": "completed"
    },
    "tags": []
   },
   "outputs": [
    {
     "name": "stdout",
     "output_type": "stream",
     "text": [
      "<class 'pandas.core.frame.DataFrame'>\n",
      "RangeIndex: 145460 entries, 0 to 145459\n",
      "Data columns (total 18 columns):\n",
      " #   Column         Non-Null Count   Dtype  \n",
      "---  ------         --------------   -----  \n",
      " 0   Location       145460 non-null  int8   \n",
      " 1   MinTemp        145460 non-null  float64\n",
      " 2   MaxTemp        145460 non-null  float64\n",
      " 3   Rainfall       145460 non-null  float64\n",
      " 4   WindGustDir    145460 non-null  float64\n",
      " 5   WindGustSpeed  145460 non-null  float64\n",
      " 6   WindDir9am     145460 non-null  float64\n",
      " 7   WindDir3pm     145460 non-null  float64\n",
      " 8   WindSpeed9am   145460 non-null  float64\n",
      " 9   WindSpeed3pm   145460 non-null  float64\n",
      " 10  Humidity9am    145460 non-null  float64\n",
      " 11  Humidity3pm    145460 non-null  float64\n",
      " 12  Pressure9am    145460 non-null  float64\n",
      " 13  Pressure3pm    145460 non-null  float64\n",
      " 14  Temp9am        145460 non-null  float64\n",
      " 15  Temp3pm        145460 non-null  float64\n",
      " 16  RainToday      145460 non-null  float64\n",
      " 17  RainTomorrow   145460 non-null  float64\n",
      "dtypes: float64(17), int8(1)\n",
      "memory usage: 19.0 MB\n"
     ]
    }
   ],
   "source": [
    "df_Xnul.info()"
   ]
  },
  {
   "cell_type": "markdown",
   "metadata": {
    "papermill": {
     "duration": 0.026277,
     "end_time": "2021-04-09T11:36:49.639241",
     "exception": false,
     "start_time": "2021-04-09T11:36:49.612964",
     "status": "completed"
    },
    "tags": []
   },
   "source": [
    "# 3. Train & Test set\n",
    "Before moving on, we need to make train and test set."
   ]
  },
  {
   "cell_type": "code",
   "execution_count": 19,
   "metadata": {
    "papermill": {
     "duration": 0.066172,
     "end_time": "2021-04-09T11:36:49.731872",
     "exception": false,
     "start_time": "2021-04-09T11:36:49.665700",
     "status": "completed"
    },
    "tags": []
   },
   "outputs": [],
   "source": [
    "X = df_Xnul.drop(['RainTomorrow'], axis=1)\n",
    "y = df_Xnul['RainTomorrow']\n",
    "X_train, X_test, y_train, y_test = train_test_split(X, y, test_size=0.3, random_state=42, shuffle=True)"
   ]
  },
  {
   "cell_type": "markdown",
   "metadata": {
    "papermill": {
     "duration": 0.026478,
     "end_time": "2021-04-09T11:36:49.784697",
     "exception": false,
     "start_time": "2021-04-09T11:36:49.758219",
     "status": "completed"
    },
    "tags": []
   },
   "source": [
    "# 4. Model Selection & GridSearch\n",
    "Now it's time to select best model and do some hyperparameter tuning!"
   ]
  },
  {
   "cell_type": "code",
   "execution_count": 20,
   "metadata": {
    "papermill": {
     "duration": 0.035838,
     "end_time": "2021-04-09T11:36:49.846981",
     "exception": false,
     "start_time": "2021-04-09T11:36:49.811143",
     "status": "completed"
    },
    "tags": []
   },
   "outputs": [],
   "source": [
    "classifier_names = [\"Logistic Regression\",'SGDClassifier', \"Random Forest\",\"KNN\",\"Decision\"]\n",
    "\n",
    "classifiers = [LogisticRegression(), SGDClassifier(), RandomForestClassifier(), KNeighborsClassifier(), DecisionTreeClassifier()]\n",
    "\n",
    "zipped_clf = zip(classifier_names,classifiers)"
   ]
  },
  {
   "cell_type": "code",
   "execution_count": 21,
   "metadata": {
    "papermill": {
     "duration": 0.036142,
     "end_time": "2021-04-09T11:36:49.910037",
     "exception": false,
     "start_time": "2021-04-09T11:36:49.873895",
     "status": "completed"
    },
    "tags": []
   },
   "outputs": [],
   "source": [
    "def classifier(classifier, t_train, c_train, t_test, c_test):\n",
    "    result = []\n",
    "    for n,c in classifier:\n",
    "        checker_pipeline = Pipeline([\n",
    "            ('standardize', StandardScaler()),                         \n",
    "            ('classifier', c)\n",
    "        ])\n",
    "        print(\"Validation result for {}\".format(n))\n",
    "        print(c)\n",
    "        clf_acc = fit_classifier(checker_pipeline, t_train, c_train, t_test,c_test)\n",
    "        result.append((n,clf_acc))\n",
    "    return result"
   ]
  },
  {
   "cell_type": "code",
   "execution_count": 22,
   "metadata": {
    "papermill": {
     "duration": 0.0349,
     "end_time": "2021-04-09T11:36:49.971560",
     "exception": false,
     "start_time": "2021-04-09T11:36:49.936660",
     "status": "completed"
    },
    "tags": []
   },
   "outputs": [],
   "source": [
    "def fit_classifier(pipeline, X_train, y_train, X_test, y_test):\n",
    "    model_fit = pipeline.fit(X_train, y_train)\n",
    "    y_pred = model_fit.predict(X_test)\n",
    "    accuracy = accuracy_score(y_test, y_pred)\n",
    "    print(\"accuracy score: {0:.2f}%\".format(accuracy*100))\n",
    "    print()\n",
    "    return accuracy"
   ]
  },
  {
   "cell_type": "markdown",
   "metadata": {
    "papermill": {
     "duration": 0.026195,
     "end_time": "2021-04-09T11:36:50.024418",
     "exception": false,
     "start_time": "2021-04-09T11:36:49.998223",
     "status": "completed"
    },
    "tags": []
   },
   "source": [
    "By applying 5 machine learning models, `Random Forest` gained highest accuracy score(85.29%) with default hyperparameter. </br>\n",
    "Random Forest's hyperparameters will be tuned to increase the accuracy score little bit more."
   ]
  },
  {
   "cell_type": "code",
   "execution_count": 23,
   "metadata": {
    "papermill": {
     "duration": 189.502432,
     "end_time": "2021-04-09T11:39:59.553595",
     "exception": false,
     "start_time": "2021-04-09T11:36:50.051163",
     "status": "completed"
    },
    "tags": []
   },
   "outputs": [
    {
     "name": "stdout",
     "output_type": "stream",
     "text": [
      "Validation result for Logistic Regression\n",
      "LogisticRegression()\n",
      "accuracy score: 84.09%\n",
      "\n",
      "Validation result for SGDClassifier\n",
      "SGDClassifier()\n",
      "accuracy score: 83.89%\n",
      "\n",
      "Validation result for Random Forest\n",
      "RandomForestClassifier()\n",
      "accuracy score: 85.31%\n",
      "\n",
      "Validation result for KNN\n",
      "KNeighborsClassifier()\n",
      "accuracy score: 83.26%\n",
      "\n",
      "Validation result for Decision\n",
      "DecisionTreeClassifier()\n",
      "accuracy score: 78.14%\n",
      "\n"
     ]
    }
   ],
   "source": [
    "result = classifier(zipped_clf, X_train, y_train, X_test, y_test)"
   ]
  },
  {
   "cell_type": "code",
   "execution_count": 24,
   "metadata": {
    "papermill": {
     "duration": 494.801241,
     "end_time": "2021-04-09T11:48:14.383091",
     "exception": false,
     "start_time": "2021-04-09T11:39:59.581850",
     "status": "completed"
    },
    "tags": []
   },
   "outputs": [
    {
     "data": {
      "text/plain": [
       "GridSearchCV(estimator=RandomForestClassifier(n_jobs=-1, random_state=42),\n",
       "             param_grid={'criterion': ['gini', 'entropy'],\n",
       "                         'max_depth': [5, 10, None],\n",
       "                         'min_samples_leaf': [3, 6, 9]})"
      ]
     },
     "execution_count": 24,
     "metadata": {},
     "output_type": "execute_result"
    }
   ],
   "source": [
    "param_list = {'min_samples_leaf':[3,6,9], 'max_depth': [5,10,None], 'criterion' : ['gini', 'entropy']}\n",
    "RFC = RandomForestClassifier(n_jobs=-1, random_state=42)\n",
    "clf = GridSearchCV(RFC,param_list)\n",
    "clf.fit(X_train, y_train)"
   ]
  },
  {
   "cell_type": "code",
   "execution_count": 25,
   "metadata": {
    "papermill": {
     "duration": 0.547292,
     "end_time": "2021-04-09T11:48:14.958990",
     "exception": false,
     "start_time": "2021-04-09T11:48:14.411698",
     "status": "completed"
    },
    "tags": []
   },
   "outputs": [],
   "source": [
    "y_pred = clf.best_estimator_.predict(X_test)"
   ]
  },
  {
   "cell_type": "code",
   "execution_count": 26,
   "metadata": {
    "papermill": {
     "duration": 0.046507,
     "end_time": "2021-04-09T11:48:15.036162",
     "exception": false,
     "start_time": "2021-04-09T11:48:14.989655",
     "status": "completed"
    },
    "tags": []
   },
   "outputs": [
    {
     "data": {
      "text/plain": [
       "85.37742334662451"
      ]
     },
     "execution_count": 26,
     "metadata": {},
     "output_type": "execute_result"
    }
   ],
   "source": [
    "accuracy_score(y_test,y_pred)*100"
   ]
  },
  {
   "cell_type": "markdown",
   "metadata": {
    "papermill": {
     "duration": 0.03097,
     "end_time": "2021-04-09T11:48:15.098002",
     "exception": false,
     "start_time": "2021-04-09T11:48:15.067032",
     "status": "completed"
    },
    "tags": []
   },
   "source": [
    "# Reference\n",
    "\n",
    "* https://towardsdatascience.com/automate-the-machine-learning-model-implementation-with-sklearn-pipeline-2ef1389062c9"
   ]
  },
  {
   "cell_type": "code",
   "execution_count": null,
   "metadata": {
    "papermill": {
     "duration": 0.028782,
     "end_time": "2021-04-09T11:48:15.156947",
     "exception": false,
     "start_time": "2021-04-09T11:48:15.128165",
     "status": "completed"
    },
    "tags": []
   },
   "outputs": [],
   "source": []
  }
 ],
 "metadata": {
  "kernelspec": {
   "display_name": "Python 3 (ipykernel)",
   "language": "python",
   "name": "python3"
  },
  "language_info": {
   "codemirror_mode": {
    "name": "ipython",
    "version": 3
   },
   "file_extension": ".py",
   "mimetype": "text/x-python",
   "name": "python",
   "nbconvert_exporter": "python",
   "pygments_lexer": "ipython3",
   "version": "3.9.7"
  },
  "papermill": {
   "default_parameters": {},
   "duration": 725.872185,
   "end_time": "2021-04-09T11:48:16.097774",
   "environment_variables": {},
   "exception": null,
   "input_path": "__notebook__.ipynb",
   "output_path": "__notebook__.ipynb",
   "parameters": {},
   "start_time": "2021-04-09T11:36:10.225589",
   "version": "2.2.2"
  }
 },
 "nbformat": 4,
 "nbformat_minor": 4
}
